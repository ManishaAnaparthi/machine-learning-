{
  "nbformat": 4,
  "nbformat_minor": 0,
  "metadata": {
    "colab": {
      "name": "Untitled17.ipynb",
      "provenance": []
    },
    "kernelspec": {
      "name": "python3",
      "display_name": "Python 3"
    },
    "language_info": {
      "name": "python"
    }
  },
  "cells": [
    {
      "cell_type": "code",
      "metadata": {
        "colab": {
          "base_uri": "https://localhost:8080/",
          "height": 315
        },
        "id": "1z7Js4t1og4-",
        "outputId": "d7f46311-295e-4a1d-fd59-acf8efef774b"
      },
      "source": [
        "import numpy as np\n",
        "import matplotlib.pyplot as plt\n",
        "import pandas as pd\n",
        "dataset=pd.read_csv('/content/Salary_Data.csv')\n",
        "x=dataset.iloc[:,0].values\n",
        "y=dataset.iloc[:,1].values\n",
        "n=np.size(x)\n",
        "m_x,m_y=np.mean(x),np.mean(y)\n",
        "nr=np.sum((x-m_x)*(y-m_x))\n",
        "dr=np.sum((x-m_x)**2)\n",
        "b0_1=nr/dr\n",
        "b0_0=m_y-b0_1*m_x\n",
        "y_pred=b0_0+b0_1*x\n",
        "print(\"intercept-\",b0_0)\n",
        "print(\"slope-\",b0_1)\n",
        "#ploting the line\n",
        "plt.scatter(x,y)\n",
        "plt.plot(x,y_pred,color='r',marker='o')\n",
        "from sklearn.metrics import r2_score\n",
        "score=r2_score(y,y_pred)\n",
        "print(\"R_Square-\",score)\n",
        "plt.show()\n",
        "\n"
      ],
      "execution_count": 2,
      "outputs": [
        {
          "output_type": "stream",
          "name": "stdout",
          "text": [
            "intercept- 25792.200198668717\n",
            "slope- 9449.962321455072\n",
            "R_Square- 0.9569566641435086\n"
          ]
        },
        {
          "output_type": "display_data",
          "data": {
            "image/png": "[encoded data removed]",
            "text/plain": [
              "<Figure size 432x288 with 1 Axes>"
            ]
          },
          "metadata": {
            "needs_background": "light"
          }
        }
      ]
    },
    {
      "cell_type": "code",
      "metadata": {
        "id": "tohKwnZ1pijy"
      },
      "source": [
        ""
      ],
      "execution_count": null,
      "outputs": []
    }
  ]
}